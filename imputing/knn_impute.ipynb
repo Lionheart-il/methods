{
 "cells": [
  {
   "cell_type": "code",
   "execution_count": 2,
   "metadata": {},
   "outputs": [],
   "source": [
    "import pandas as pd\n",
    "import numpy as np"
   ]
  },
  {
   "cell_type": "markdown",
   "metadata": {},
   "source": [
    "## import the data"
   ]
  },
  {
   "cell_type": "code",
   "execution_count": 3,
   "metadata": {},
   "outputs": [],
   "source": [
    "train = pd.read_csv('/Users/asaf/Google Drive/Work/Python Scripts/titanic/train.csv')\n"
   ]
  },
  {
   "cell_type": "markdown",
   "metadata": {},
   "source": [
    "## Feature Selection"
   ]
  },
  {
   "cell_type": "code",
   "execution_count": 4,
   "metadata": {},
   "outputs": [],
   "source": [
    "drop_elements = ['PassengerId', 'Name', 'Ticket','Parch','Cabin']\n",
    "train = train.drop(drop_elements,axis = 1)\n"
   ]
  },
  {
   "cell_type": "markdown",
   "metadata": {},
   "source": [
    "# Missing Values"
   ]
  },
  {
   "cell_type": "code",
   "execution_count": 5,
   "metadata": {},
   "outputs": [
    {
     "output_type": "execute_result",
     "data": {
      "text/plain": "Survived     0.000000\nPclass       0.000000\nSex          0.000000\nAge         19.865320\nSibSp        0.000000\nFare         0.000000\nEmbarked     0.224467\ndtype: float64"
     },
     "metadata": {},
     "execution_count": 5
    }
   ],
   "source": [
    "train.isnull().mean() * 100"
   ]
  },
  {
   "cell_type": "markdown",
   "metadata": {},
   "source": [
    "## KNN Impute Values + get_dummies"
   ]
  },
  {
   "cell_type": "code",
   "execution_count": 6,
   "metadata": {},
   "outputs": [],
   "source": [
    "string_cols_full = list(train.loc[:, train.dtypes == np.object].columns[~train.loc[:, train.dtypes == np.object].isnull().any()])\n",
    "string_cols_missing_v = list(train.loc[:, train.dtypes == np.object].columns[train.loc[:, train.dtypes == np.object].isnull().any()])\n",
    "\n",
    "#encoding the columns without any missing values\n",
    "train = pd.get_dummies(train,columns = string_cols_full, drop_first=True)"
   ]
  },
  {
   "cell_type": "code",
   "execution_count": 7,
   "metadata": {
    "tags": []
   },
   "outputs": [
    {
     "output_type": "stream",
     "name": "stderr",
     "text": "Using TensorFlow backend.\n"
    }
   ],
   "source": [
    "#from sklearn.impute import SimpleImputer\n",
    "#imp = SimpleImputer(strategy=\"most_frequent\")\n",
    "#train['Cabin'] = imp.fit_transform(pd.DataFrame(train['Cabin']))\n",
    "\n",
    "from fancyimpute import KNN\n",
    "from sklearn.preprocessing import OrdinalEncoder\n",
    "\n",
    "#instantiate both packages to use\n",
    "encoder = OrdinalEncoder()\n",
    "imputer = KNN()\n",
    "\n",
    "def encode(data):\n",
    "    '''function to encode non-null data and replace it in the original data'''\n",
    "    #retains only non-null values\n",
    "    nonulls = np.array(data.dropna())\n",
    "    #reshapes the data for encoding\n",
    "    impute_reshape = nonulls.reshape(-1,1)\n",
    "    #encode date\n",
    "    impute_ordinal = encoder.fit_transform(impute_reshape)\n",
    "    #Assign back encoded values to non-null values\n",
    "    data.loc[data.notnull()] = np.squeeze(impute_ordinal)\n",
    "    return data\n",
    "\n",
    "#create a for loop to iterate through each column in the data\n",
    "for columns in string_cols_missing_v:\n",
    "    encode(train[columns])"
   ]
  },
  {
   "cell_type": "code",
   "execution_count": 8,
   "metadata": {
    "tags": []
   },
   "outputs": [
    {
     "output_type": "stream",
     "name": "stdout",
     "text": "Imputing row 1/891 with 0 missing, elapsed time: 0.114\nImputing row 101/891 with 0 missing, elapsed time: 0.115\nImputing row 201/891 with 0 missing, elapsed time: 0.116\nImputing row 301/891 with 1 missing, elapsed time: 0.117\nImputing row 401/891 with 0 missing, elapsed time: 0.118\nImputing row 501/891 with 0 missing, elapsed time: 0.119\nImputing row 601/891 with 0 missing, elapsed time: 0.120\nImputing row 701/891 with 0 missing, elapsed time: 0.121\nImputing row 801/891 with 0 missing, elapsed time: 0.122\n"
    }
   ],
   "source": [
    "# impute data and convert \n",
    "train = pd.DataFrame(np.round(imputer.fit_transform(train)),columns = train.columns)\n",
    "train = pd.get_dummies(train,columns = string_cols_missing_v, drop_first=True)"
   ]
  },
  {
   "cell_type": "code",
   "execution_count": 9,
   "metadata": {},
   "outputs": [
    {
     "output_type": "execute_result",
     "data": {
      "text/plain": "Survived        0.0\nPclass          0.0\nAge             0.0\nSibSp           0.0\nFare            0.0\nSex_male        0.0\nEmbarked_1.0    0.0\nEmbarked_2.0    0.0\ndtype: float64"
     },
     "metadata": {},
     "execution_count": 9
    }
   ],
   "source": [
    "train.isnull().mean() * 100"
   ]
  },
  {
   "cell_type": "code",
   "execution_count": null,
   "metadata": {},
   "outputs": [],
   "source": []
  }
 ],
 "metadata": {
  "language_info": {
   "codemirror_mode": {
    "name": "ipython",
    "version": 3
   },
   "file_extension": ".py",
   "mimetype": "text/x-python",
   "name": "python",
   "nbconvert_exporter": "python",
   "pygments_lexer": "ipython3",
   "version": "3.7.6-final"
  },
  "orig_nbformat": 2,
  "kernelspec": {
   "name": "python3",
   "display_name": "Python 3"
  }
 },
 "nbformat": 4,
 "nbformat_minor": 2
}